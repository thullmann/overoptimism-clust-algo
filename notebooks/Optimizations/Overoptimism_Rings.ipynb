{
 "cells": [
  {
   "cell_type": "code",
   "execution_count": 2,
   "metadata": {
    "executionInfo": {
     "elapsed": 676,
     "status": "ok",
     "timestamp": 1621077674116,
     "user": {
      "displayName": "Isdm Hueni",
      "photoUrl": "",
      "userId": "05072038424951783895"
     },
     "user_tz": -120
    },
    "id": "D98-cMVM08N2"
   },
   "outputs": [],
   "source": [
    "import sys  \n",
    "sys.path.insert(0, '../..')"
   ]
  },
  {
   "cell_type": "code",
   "execution_count": 3,
   "metadata": {
    "colab": {
     "base_uri": "https://localhost:8080/"
    },
    "executionInfo": {
     "elapsed": 1421,
     "status": "ok",
     "timestamp": 1621077678202,
     "user": {
      "displayName": "Isdm Hueni",
      "photoUrl": "",
      "userId": "05072038424951783895"
     },
     "user_tz": -120
    },
    "id": "UVecTsHK1AcP",
    "outputId": "cc29dec0-a8b5-4226-f54f-bf7d1e63b908"
   },
   "outputs": [],
   "source": [
    "%load_ext autoreload\n",
    "%autoreload 2"
   ]
  },
  {
   "cell_type": "code",
   "execution_count": 4,
   "metadata": {
    "executionInfo": {
     "elapsed": 628,
     "status": "ok",
     "timestamp": 1621077678203,
     "user": {
      "displayName": "Isdm Hueni",
      "photoUrl": "",
      "userId": "05072038424951783895"
     },
     "user_tz": -120
    },
    "id": "lP-i52Au8kmy"
   },
   "outputs": [],
   "source": [
    "import optuna\n",
    "from optuna.samplers import TPESampler\n",
    "import numpy as np\n",
    "import pandas as pd\n",
    "\n",
    "from sklearn.datasets import make_blobs, make_moons, make_circles\n",
    "from sklearn.cluster import KMeans, DBSCAN, SpectralClustering, MeanShift, estimate_bandwidth\n",
    "from sklearn.preprocessing import StandardScaler\n",
    "from sklearn.metrics import adjusted_mutual_info_score as AMI\n",
    "from rock import ROCK\n",
    "\n",
    "import logging\n",
    "import sys"
   ]
  },
  {
   "cell_type": "code",
   "execution_count": 5,
   "metadata": {
    "executionInfo": {
     "elapsed": 895,
     "status": "ok",
     "timestamp": 1621077679754,
     "user": {
      "displayName": "Isdm Hueni",
      "photoUrl": "",
      "userId": "05072038424951783895"
     },
     "user_tz": -120
    },
    "id": "sVmdS5nR8ic7"
   },
   "outputs": [],
   "source": [
    "experiment = []\n",
    "run_id = 0"
   ]
  },
  {
   "cell_type": "code",
   "execution_count": 7,
   "metadata": {
    "executionInfo": {
     "elapsed": 696,
     "status": "ok",
     "timestamp": 1621077680997,
     "user": {
      "displayName": "Isdm Hueni",
      "photoUrl": "",
      "userId": "05072038424951783895"
     },
     "user_tz": -120
    },
    "id": "sALbXlA-1Bnq"
   },
   "outputs": [],
   "source": [
    "def objective(trial):\n",
    "    seed = 0\n",
    "\n",
    "    rock_results = []\n",
    "    other_results = []\n",
    "\n",
    "    n_samples = trial.suggest_int('n_samples', 1, 16) * 100\n",
    "    jitter = trial.suggest_int('jitter', 1, 20) * 0.01\n",
    "    factor = trial.suggest_int('factor', 1, 9) * 0.1\n",
    "\n",
    "    datasets = []\n",
    "\n",
    "    for s in range(seed, seed+10):\n",
    "        datasets.append(make_circles(n_samples=n_samples,\n",
    "                                     noise=jitter, \n",
    "                                     random_state=s))\n",
    "        \n",
    "    step = 0\n",
    "    for dataset in datasets: \n",
    "        run = {}\n",
    "        run['run_id'] = run_id\n",
    "        run['step'] = step\n",
    "        run['n_samples'] = n_samples\n",
    "        run['jitter'] = jitter\n",
    "        run['factor'] = factor\n",
    "        scaler = StandardScaler()\n",
    "        data = scaler.fit_transform(dataset[0])\n",
    "        kmeans = KMeans(n_clusters=2, random_state=seed).fit(data).labels_\n",
    "        run['k'] = 2\n",
    "        eps, min_pts = (0.2, 4)\n",
    "        dbscan = DBSCAN(eps=eps, min_samples=min_pts).fit(data).labels_\n",
    "        run['eps'] = eps\n",
    "        run['min_pts'] = min_pts\n",
    "        spectral = SpectralClustering(n_clusters=2, random_state=seed).fit(data).labels_\n",
    "        bandwidth = estimate_bandwidth(data)\n",
    "        run['bandwidth'] = bandwidth\n",
    "        mean_shift = MeanShift(bandwidth=bandwidth).fit(data).labels_\n",
    "\n",
    "        rock = ROCK(tmax=15).fit(data).labels_\n",
    "\n",
    "        gt = dataset[1]\n",
    "        rock_results.append(AMI(rock, gt))\n",
    "        other_results.append(np.max([AMI(kmeans, gt), AMI(dbscan, gt), AMI(spectral, gt), AMI(mean_shift, gt)]))\n",
    "\n",
    "        run['ROCK'] = AMI(rock, gt)\n",
    "        run['K_MEANS'] = AMI(kmeans, gt)\n",
    "        run['DBSCAN'] = AMI(dbscan, gt)\n",
    "        run['SPECTRAL'] = AMI(spectral, gt)\n",
    "        run['MEAN_SHIFT'] = AMI(mean_shift, gt)\n",
    "\n",
    "        step += 1\n",
    "\n",
    "        experiment.append(run)\n",
    "\n",
    "    return np.mean(rock_results) - np.mean(other_results)"
   ]
  },
  {
   "cell_type": "code",
   "execution_count": 8,
   "metadata": {
    "executionInfo": {
     "elapsed": 517,
     "status": "ok",
     "timestamp": 1621077683566,
     "user": {
      "displayName": "Isdm Hueni",
      "photoUrl": "",
      "userId": "05072038424951783895"
     },
     "user_tz": -120
    },
    "id": "d9mAiC1J8rMz"
   },
   "outputs": [],
   "source": [
    "study_name = 'rings'"
   ]
  },
  {
   "cell_type": "code",
   "execution_count": 9,
   "metadata": {
    "colab": {
     "base_uri": "https://localhost:8080/"
    },
    "executionInfo": {
     "elapsed": 792,
     "status": "ok",
     "timestamp": 1621077687006,
     "user": {
      "displayName": "Isdm Hueni",
      "photoUrl": "",
      "userId": "05072038424951783895"
     },
     "user_tz": -120
    },
    "id": "oZfpmiPh8nDk",
    "outputId": "e3553afb-b73a-4237-a9bc-17a436ab7337"
   },
   "outputs": [
    {
     "name": "stderr",
     "output_type": "stream",
     "text": [
      "\u001b[32m[I 2021-05-30 14:47:56,346]\u001b[0m A new study created in RDB with name: rings\u001b[0m\n"
     ]
    }
   ],
   "source": [
    "storage_name = f'sqlite:///../../results/optimization/{study_name}.db'\n",
    "sampler = TPESampler(seed=42)\n",
    "study = optuna.create_study(study_name=study_name, storage=storage_name, sampler=sampler, load_if_exists=True,  direction=\"maximize\")"
   ]
  },
  {
   "cell_type": "code",
   "execution_count": 10,
   "metadata": {},
   "outputs": [
    {
     "name": "stderr",
     "output_type": "stream",
     "text": [
      "\u001b[32m[I 2021-05-30 14:48:58,300]\u001b[0m Trial 0 finished with value: -0.02142656584239766 and parameters: {'n_samples': 6, 'jitter': 20, 'factor': 7}. Best is trial 0 with value: -0.02142656584239766.\u001b[0m\n",
      "\u001b[32m[I 2021-05-30 14:49:30,838]\u001b[0m Trial 1 finished with value: 0.015381630723519255 and parameters: {'n_samples': 10, 'jitter': 4, 'factor': 2}. Best is trial 1 with value: 0.015381630723519255.\u001b[0m\n",
      "\u001b[32m[I 2021-05-30 14:49:34,098]\u001b[0m Trial 2 finished with value: -0.006095386668716002 and parameters: {'n_samples': 1, 'jitter': 18, 'factor': 6}. Best is trial 1 with value: 0.015381630723519255.\u001b[0m\n",
      "\u001b[32m[I 2021-05-30 14:50:36,014]\u001b[0m Trial 3 finished with value: -0.8377256182050731 and parameters: {'n_samples': 12, 'jitter': 1, 'factor': 9}. Best is trial 1 with value: 0.015381630723519255.\u001b[0m\n",
      "\u001b[32m[I 2021-05-30 14:51:49,363]\u001b[0m Trial 4 finished with value: 0.007022758619026565 and parameters: {'n_samples': 14, 'jitter': 5, 'factor': 2}. Best is trial 1 with value: 0.015381630723519255.\u001b[0m\n",
      "\u001b[32m[I 2021-05-30 14:51:59,742]\u001b[0m Trial 5 finished with value: -0.023344471079612183 and parameters: {'n_samples': 3, 'jitter': 7, 'factor': 5}. Best is trial 1 with value: 0.015381630723519255.\u001b[0m\n",
      "\u001b[32m[I 2021-05-30 14:52:27,631]\u001b[0m Trial 6 finished with value: 0.003921525180912526 and parameters: {'n_samples': 7, 'jitter': 6, 'factor': 6}. Best is trial 1 with value: 0.015381630723519255.\u001b[0m\n",
      "\u001b[32m[I 2021-05-30 14:52:35,426]\u001b[0m Trial 7 finished with value: -0.029433085947994805 and parameters: {'n_samples': 3, 'jitter': 6, 'factor': 4}. Best is trial 1 with value: 0.015381630723519255.\u001b[0m\n",
      "\u001b[32m[I 2021-05-30 14:53:22,413]\u001b[0m Trial 8 finished with value: -0.013159691298419157 and parameters: {'n_samples': 8, 'jitter': 16, 'factor': 2}. Best is trial 1 with value: 0.015381630723519255.\u001b[0m\n",
      "\u001b[32m[I 2021-05-30 14:54:12,483]\u001b[0m Trial 9 finished with value: -0.0031697722217995817 and parameters: {'n_samples': 9, 'jitter': 12, 'factor': 1}. Best is trial 1 with value: 0.015381630723519255.\u001b[0m\n",
      "\u001b[32m[I 2021-05-30 14:55:00,182]\u001b[0m Trial 10 finished with value: -0.8413867837651066 and parameters: {'n_samples': 16, 'jitter': 1, 'factor': 3}. Best is trial 1 with value: 0.015381630723519255.\u001b[0m\n",
      "\u001b[32m[I 2021-05-30 14:55:46,271]\u001b[0m Trial 11 finished with value: 0.025613185962392277 and parameters: {'n_samples': 14, 'jitter': 3, 'factor': 1}. Best is trial 11 with value: 0.025613185962392277.\u001b[0m\n",
      "\u001b[32m[I 2021-05-30 14:56:17,683]\u001b[0m Trial 12 finished with value: 0.16292888501735076 and parameters: {'n_samples': 11, 'jitter': 2, 'factor': 1}. Best is trial 12 with value: 0.16292888501735076.\u001b[0m\n",
      "\u001b[32m[I 2021-05-30 14:57:46,796]\u001b[0m Trial 13 finished with value: 0.0018143812211078294 and parameters: {'n_samples': 16, 'jitter': 11, 'factor': 1}. Best is trial 12 with value: 0.16292888501735076.\u001b[0m\n",
      "\u001b[32m[I 2021-05-30 14:58:17,642]\u001b[0m Trial 14 finished with value: -0.8377256182050731 and parameters: {'n_samples': 12, 'jitter': 1, 'factor': 1}. Best is trial 12 with value: 0.16292888501735076.\u001b[0m\n",
      "\u001b[32m[I 2021-05-30 14:59:01,228]\u001b[0m Trial 15 finished with value: 0.031067247035345018 and parameters: {'n_samples': 13, 'jitter': 3, 'factor': 3}. Best is trial 12 with value: 0.16292888501735076.\u001b[0m\n",
      "\u001b[32m[I 2021-05-30 15:01:13,942]\u001b[0m Trial 16 finished with value: 0.006278069316000698 and parameters: {'n_samples': 11, 'jitter': 9, 'factor': 3}. Best is trial 12 with value: 0.16292888501735076.\u001b[0m\n",
      "\u001b[32m[I 2021-05-30 15:03:23,634]\u001b[0m Trial 17 finished with value: 0.025613185962392277 and parameters: {'n_samples': 14, 'jitter': 3, 'factor': 4}. Best is trial 12 with value: 0.16292888501735076.\u001b[0m\n",
      "\u001b[32m[I 2021-05-30 15:09:11,757]\u001b[0m Trial 18 finished with value: -0.0033068028172428764 and parameters: {'n_samples': 13, 'jitter': 13, 'factor': 3}. Best is trial 12 with value: 0.16292888501735076.\u001b[0m\n",
      "\u001b[32m[I 2021-05-30 15:11:16,763]\u001b[0m Trial 19 finished with value: 0.0011658530820495886 and parameters: {'n_samples': 10, 'jitter': 9, 'factor': 4}. Best is trial 12 with value: 0.16292888501735076.\u001b[0m\n",
      "\u001b[32m[I 2021-05-30 15:12:09,641]\u001b[0m Trial 20 finished with value: -0.0027096468016498984 and parameters: {'n_samples': 5, 'jitter': 8, 'factor': 2}. Best is trial 12 with value: 0.16292888501735076.\u001b[0m\n",
      "\u001b[32m[I 2021-05-30 15:15:02,295]\u001b[0m Trial 21 finished with value: 0.04431947882268261 and parameters: {'n_samples': 15, 'jitter': 3, 'factor': 4}. Best is trial 12 with value: 0.16292888501735076.\u001b[0m\n",
      "\u001b[32m[I 2021-05-30 15:19:01,922]\u001b[0m Trial 22 finished with value: 0.06224135093179387 and parameters: {'n_samples': 16, 'jitter': 3, 'factor': 5}. Best is trial 12 with value: 0.16292888501735076.\u001b[0m\n",
      "\u001b[32m[I 2021-05-30 15:22:37,340]\u001b[0m Trial 23 finished with value: 0.1789493922434452 and parameters: {'n_samples': 16, 'jitter': 2, 'factor': 8}. Best is trial 23 with value: 0.1789493922434452.\u001b[0m\n",
      "\u001b[32m[I 2021-05-30 15:25:03,905]\u001b[0m Trial 24 finished with value: -0.8398635684066963 and parameters: {'n_samples': 15, 'jitter': 1, 'factor': 9}. Best is trial 23 with value: 0.1789493922434452.\u001b[0m\n",
      "\u001b[32m[I 2021-05-30 15:28:48,617]\u001b[0m Trial 25 finished with value: 0.005417015316880122 and parameters: {'n_samples': 16, 'jitter': 5, 'factor': 8}. Best is trial 23 with value: 0.1789493922434452.\u001b[0m\n",
      "\u001b[32m[I 2021-05-30 15:30:19,216]\u001b[0m Trial 26 finished with value: 0.1789493922434452 and parameters: {'n_samples': 16, 'jitter': 2, 'factor': 8}. Best is trial 23 with value: 0.1789493922434452.\u001b[0m\n",
      "\u001b[32m[I 2021-05-30 15:31:18,291]\u001b[0m Trial 27 finished with value: -0.8377256182050731 and parameters: {'n_samples': 12, 'jitter': 1, 'factor': 8}. Best is trial 23 with value: 0.1789493922434452.\u001b[0m\n",
      "\u001b[32m[I 2021-05-30 15:32:40,397]\u001b[0m Trial 28 finished with value: 0.17886297832745685 and parameters: {'n_samples': 15, 'jitter': 2, 'factor': 8}. Best is trial 23 with value: 0.1789493922434452.\u001b[0m\n",
      "\u001b[32m[I 2021-05-30 15:34:27,251]\u001b[0m Trial 29 finished with value: 0.0076502401050678554 and parameters: {'n_samples': 15, 'jitter': 5, 'factor': 8}. Best is trial 23 with value: 0.1789493922434452.\u001b[0m\n",
      "\u001b[32m[I 2021-05-30 15:36:23,544]\u001b[0m Trial 30 finished with value: -0.0033768176560270533 and parameters: {'n_samples': 15, 'jitter': 15, 'factor': 7}. Best is trial 23 with value: 0.1789493922434452.\u001b[0m\n",
      "\u001b[32m[I 2021-05-30 15:37:17,603]\u001b[0m Trial 31 finished with value: 0.1776092548696203 and parameters: {'n_samples': 14, 'jitter': 2, 'factor': 7}. Best is trial 23 with value: 0.1789493922434452.\u001b[0m\n",
      "\u001b[32m[I 2021-05-30 15:38:38,661]\u001b[0m Trial 32 finished with value: 0.00863837939362909 and parameters: {'n_samples': 16, 'jitter': 4, 'factor': 7}. Best is trial 23 with value: 0.1789493922434452.\u001b[0m\n",
      "\u001b[32m[I 2021-05-30 15:39:40,246]\u001b[0m Trial 33 finished with value: 0.012817247046428601 and parameters: {'n_samples': 13, 'jitter': 4, 'factor': 8}. Best is trial 23 with value: 0.1789493922434452.\u001b[0m\n",
      "\u001b[32m[I 2021-05-30 15:44:42,236]\u001b[0m Trial 34 finished with value: -0.013359414246290864 and parameters: {'n_samples': 14, 'jitter': 20, 'factor': 7}. Best is trial 23 with value: 0.1789493922434452.\u001b[0m\n",
      "\u001b[32m[I 2021-05-30 15:45:44,416]\u001b[0m Trial 35 finished with value: 0.17886297832745685 and parameters: {'n_samples': 15, 'jitter': 2, 'factor': 9}. Best is trial 23 with value: 0.1789493922434452.\u001b[0m\n",
      "\u001b[32m[I 2021-05-30 15:46:45,087]\u001b[0m Trial 36 finished with value: 0.17886297832745685 and parameters: {'n_samples': 15, 'jitter': 2, 'factor': 9}. Best is trial 23 with value: 0.1789493922434452.\u001b[0m\n",
      "\u001b[32m[I 2021-05-30 15:48:10,973]\u001b[0m Trial 37 finished with value: 0.007390842311141011 and parameters: {'n_samples': 16, 'jitter': 6, 'factor': 9}. Best is trial 23 with value: 0.1789493922434452.\u001b[0m\n",
      "\u001b[32m[I 2021-05-30 15:49:28,684]\u001b[0m Trial 38 finished with value: 0.01537222323003045 and parameters: {'n_samples': 13, 'jitter': 5, 'factor': 9}. Best is trial 23 with value: 0.1789493922434452.\u001b[0m\n",
      "\u001b[32m[I 2021-05-30 15:50:48,278]\u001b[0m Trial 39 finished with value: 0.17886297832745685 and parameters: {'n_samples': 15, 'jitter': 2, 'factor': 6}. Best is trial 23 with value: 0.1789493922434452.\u001b[0m\n",
      "\u001b[32m[I 2021-05-30 15:51:41,978]\u001b[0m Trial 40 finished with value: 0.01378093508336085 and parameters: {'n_samples': 11, 'jitter': 4, 'factor': 8}. Best is trial 23 with value: 0.1789493922434452.\u001b[0m\n"
     ]
    },
    {
     "name": "stderr",
     "output_type": "stream",
     "text": [
      "\u001b[32m[I 2021-05-30 15:52:53,427]\u001b[0m Trial 41 finished with value: 0.17886297832745685 and parameters: {'n_samples': 15, 'jitter': 2, 'factor': 6}. Best is trial 23 with value: 0.1789493922434452.\u001b[0m\n",
      "\u001b[32m[I 2021-05-30 15:54:11,809]\u001b[0m Trial 42 finished with value: -0.8413867837651066 and parameters: {'n_samples': 16, 'jitter': 1, 'factor': 9}. Best is trial 23 with value: 0.1789493922434452.\u001b[0m\n",
      "\u001b[32m[I 2021-05-30 15:55:17,904]\u001b[0m Trial 43 finished with value: 0.1776092548696203 and parameters: {'n_samples': 14, 'jitter': 2, 'factor': 9}. Best is trial 23 with value: 0.1789493922434452.\u001b[0m\n",
      "\u001b[32m[I 2021-05-30 15:56:45,660]\u001b[0m Trial 44 finished with value: 0.008401881671068551 and parameters: {'n_samples': 15, 'jitter': 6, 'factor': 6}. Best is trial 23 with value: 0.1789493922434452.\u001b[0m\n",
      "\u001b[32m[I 2021-05-30 15:56:51,209]\u001b[0m Trial 45 finished with value: -0.05321677427280725 and parameters: {'n_samples': 1, 'jitter': 4, 'factor': 6}. Best is trial 23 with value: 0.1789493922434452.\u001b[0m\n",
      "\u001b[32m[I 2021-05-30 15:58:10,907]\u001b[0m Trial 46 finished with value: 0.006899591040203912 and parameters: {'n_samples': 12, 'jitter': 7, 'factor': 8}. Best is trial 23 with value: 0.1789493922434452.\u001b[0m\n",
      "\u001b[32m[I 2021-05-30 15:59:15,050]\u001b[0m Trial 47 finished with value: 0.1776092548696203 and parameters: {'n_samples': 14, 'jitter': 2, 'factor': 5}. Best is trial 23 with value: 0.1789493922434452.\u001b[0m\n",
      "\u001b[32m[I 2021-05-30 16:00:19,106]\u001b[0m Trial 48 finished with value: -0.8413867837651066 and parameters: {'n_samples': 16, 'jitter': 1, 'factor': 6}. Best is trial 23 with value: 0.1789493922434452.\u001b[0m\n",
      "\u001b[32m[I 2021-05-30 16:01:21,898]\u001b[0m Trial 49 finished with value: 0.012817247046428601 and parameters: {'n_samples': 13, 'jitter': 4, 'factor': 6}. Best is trial 23 with value: 0.1789493922434452.\u001b[0m\n",
      "\u001b[32m[I 2021-05-30 16:01:52,457]\u001b[0m Trial 50 finished with value: 0.08705128426092364 and parameters: {'n_samples': 8, 'jitter': 3, 'factor': 9}. Best is trial 23 with value: 0.1789493922434452.\u001b[0m\n",
      "\u001b[32m[I 2021-05-30 16:02:54,642]\u001b[0m Trial 51 finished with value: 0.17886297832745685 and parameters: {'n_samples': 15, 'jitter': 2, 'factor': 7}. Best is trial 23 with value: 0.1789493922434452.\u001b[0m\n",
      "\u001b[32m[I 2021-05-30 16:03:48,880]\u001b[0m Trial 52 finished with value: -0.8398635684066963 and parameters: {'n_samples': 15, 'jitter': 1, 'factor': 8}. Best is trial 23 with value: 0.1789493922434452.\u001b[0m\n",
      "\u001b[32m[I 2021-05-30 16:04:59,225]\u001b[0m Trial 53 finished with value: 0.1789493922434452 and parameters: {'n_samples': 16, 'jitter': 2, 'factor': 7}. Best is trial 23 with value: 0.1789493922434452.\u001b[0m\n",
      "\u001b[32m[I 2021-05-30 16:06:26,909]\u001b[0m Trial 54 finished with value: 0.06224135093179387 and parameters: {'n_samples': 16, 'jitter': 3, 'factor': 7}. Best is trial 23 with value: 0.1789493922434452.\u001b[0m\n",
      "\u001b[32m[I 2021-05-30 16:06:38,297]\u001b[0m Trial 55 finished with value: -0.1486534339846112 and parameters: {'n_samples': 4, 'jitter': 2, 'factor': 7}. Best is trial 23 with value: 0.1789493922434452.\u001b[0m\n",
      "\u001b[32m[I 2021-05-30 16:07:40,308]\u001b[0m Trial 56 finished with value: 0.025613185962392277 and parameters: {'n_samples': 14, 'jitter': 3, 'factor': 9}. Best is trial 23 with value: 0.1789493922434452.\u001b[0m\n",
      "\u001b[32m[I 2021-05-30 16:09:32,284]\u001b[0m Trial 57 finished with value: 0.005417015316880122 and parameters: {'n_samples': 16, 'jitter': 5, 'factor': 8}. Best is trial 23 with value: 0.1789493922434452.\u001b[0m\n",
      "\u001b[32m[I 2021-05-30 16:10:21,025]\u001b[0m Trial 58 finished with value: -0.8402494518463727 and parameters: {'n_samples': 14, 'jitter': 1, 'factor': 6}. Best is trial 23 with value: 0.1789493922434452.\u001b[0m\n",
      "\u001b[32m[I 2021-05-30 16:11:44,570]\u001b[0m Trial 59 finished with value: 0.00863837939362909 and parameters: {'n_samples': 16, 'jitter': 4, 'factor': 7}. Best is trial 23 with value: 0.1789493922434452.\u001b[0m\n",
      "\u001b[32m[I 2021-05-30 16:12:59,656]\u001b[0m Trial 60 finished with value: 0.010130629772171799 and parameters: {'n_samples': 13, 'jitter': 7, 'factor': 8}. Best is trial 23 with value: 0.1789493922434452.\u001b[0m\n",
      "\u001b[32m[I 2021-05-30 16:14:00,250]\u001b[0m Trial 61 finished with value: 0.17886297832745685 and parameters: {'n_samples': 15, 'jitter': 2, 'factor': 8}. Best is trial 23 with value: 0.1789493922434452.\u001b[0m\n",
      "\u001b[32m[I 2021-05-30 16:24:54,143]\u001b[0m Trial 62 finished with value: 0.04431947882268261 and parameters: {'n_samples': 15, 'jitter': 3, 'factor': 6}. Best is trial 23 with value: 0.1789493922434452.\u001b[0m\n",
      "\u001b[32m[I 2021-05-30 16:25:42,931]\u001b[0m Trial 63 finished with value: -0.8398635684066963 and parameters: {'n_samples': 15, 'jitter': 1, 'factor': 7}. Best is trial 23 with value: 0.1789493922434452.\u001b[0m\n",
      "\u001b[32m[I 2021-05-30 16:26:35,824]\u001b[0m Trial 64 finished with value: 0.1789493922434452 and parameters: {'n_samples': 16, 'jitter': 2, 'factor': 5}. Best is trial 23 with value: 0.1789493922434452.\u001b[0m\n",
      "\u001b[32m[I 2021-05-30 16:27:19,427]\u001b[0m Trial 65 finished with value: -0.8413867837651066 and parameters: {'n_samples': 16, 'jitter': 1, 'factor': 8}. Best is trial 23 with value: 0.1789493922434452.\u001b[0m\n",
      "\u001b[32m[I 2021-05-30 16:27:33,761]\u001b[0m Trial 66 finished with value: 0.02532098656375508 and parameters: {'n_samples': 6, 'jitter': 3, 'factor': 5}. Best is trial 23 with value: 0.1789493922434452.\u001b[0m\n",
      "\u001b[32m[I 2021-05-30 16:28:23,895]\u001b[0m Trial 67 finished with value: 0.1789493922434452 and parameters: {'n_samples': 16, 'jitter': 2, 'factor': 8}. Best is trial 23 with value: 0.1789493922434452.\u001b[0m\n",
      "\u001b[32m[I 2021-05-30 16:29:27,686]\u001b[0m Trial 68 finished with value: 0.00863837939362909 and parameters: {'n_samples': 16, 'jitter': 4, 'factor': 8}. Best is trial 23 with value: 0.1789493922434452.\u001b[0m\n",
      "\u001b[32m[I 2021-05-30 16:30:15,767]\u001b[0m Trial 69 finished with value: 0.025613185962392277 and parameters: {'n_samples': 14, 'jitter': 3, 'factor': 7}. Best is trial 23 with value: 0.1789493922434452.\u001b[0m\n",
      "\u001b[32m[I 2021-05-30 16:31:21,944]\u001b[0m Trial 70 finished with value: 0.005417015316880122 and parameters: {'n_samples': 16, 'jitter': 5, 'factor': 7}. Best is trial 23 with value: 0.1789493922434452.\u001b[0m\n",
      "\u001b[32m[I 2021-05-30 16:32:07,956]\u001b[0m Trial 71 finished with value: 0.17886297832745685 and parameters: {'n_samples': 15, 'jitter': 2, 'factor': 9}. Best is trial 23 with value: 0.1789493922434452.\u001b[0m\n",
      "\u001b[32m[I 2021-05-30 16:32:58,585]\u001b[0m Trial 72 finished with value: 0.1789493922434452 and parameters: {'n_samples': 16, 'jitter': 2, 'factor': 8}. Best is trial 23 with value: 0.1789493922434452.\u001b[0m\n",
      "\u001b[32m[I 2021-05-30 16:33:44,763]\u001b[0m Trial 73 finished with value: -0.8413867837651066 and parameters: {'n_samples': 16, 'jitter': 1, 'factor': 8}. Best is trial 23 with value: 0.1789493922434452.\u001b[0m\n",
      "\u001b[32m[I 2021-05-30 16:34:51,209]\u001b[0m Trial 74 finished with value: 0.06224135093179387 and parameters: {'n_samples': 16, 'jitter': 3, 'factor': 8}. Best is trial 23 with value: 0.1789493922434452.\u001b[0m\n",
      "\u001b[32m[I 2021-05-30 16:35:38,030]\u001b[0m Trial 75 finished with value: 0.1776092548696203 and parameters: {'n_samples': 14, 'jitter': 2, 'factor': 8}. Best is trial 23 with value: 0.1789493922434452.\u001b[0m\n",
      "\u001b[32m[I 2021-05-30 16:36:21,976]\u001b[0m Trial 76 finished with value: -0.8398635684066963 and parameters: {'n_samples': 15, 'jitter': 1, 'factor': 7}. Best is trial 23 with value: 0.1789493922434452.\u001b[0m\n",
      "\u001b[32m[I 2021-05-30 16:37:27,349]\u001b[0m Trial 77 finished with value: 0.1789493922434452 and parameters: {'n_samples': 16, 'jitter': 2, 'factor': 9}. Best is trial 23 with value: 0.1789493922434452.\u001b[0m\n",
      "\u001b[32m[I 2021-05-30 16:38:54,820]\u001b[0m Trial 78 finished with value: 0.005417015316880122 and parameters: {'n_samples': 16, 'jitter': 5, 'factor': 9}. Best is trial 23 with value: 0.1789493922434452.\u001b[0m\n",
      "\u001b[32m[I 2021-05-30 16:40:16,318]\u001b[0m Trial 79 finished with value: 0.00863837939362909 and parameters: {'n_samples': 16, 'jitter': 4, 'factor': 9}. Best is trial 23 with value: 0.1789493922434452.\u001b[0m\n",
      "\u001b[32m[I 2021-05-30 16:41:24,927]\u001b[0m Trial 80 finished with value: 0.1789493922434452 and parameters: {'n_samples': 16, 'jitter': 2, 'factor': 5}. Best is trial 23 with value: 0.1789493922434452.\u001b[0m\n",
      "\u001b[32m[I 2021-05-30 16:42:30,960]\u001b[0m Trial 81 finished with value: 0.1789493922434452 and parameters: {'n_samples': 16, 'jitter': 2, 'factor': 5}. Best is trial 23 with value: 0.1789493922434452.\u001b[0m\n"
     ]
    },
    {
     "name": "stderr",
     "output_type": "stream",
     "text": [
      "\u001b[32m[I 2021-05-30 16:43:48,578]\u001b[0m Trial 82 finished with value: 0.06224135093179387 and parameters: {'n_samples': 16, 'jitter': 3, 'factor': 5}. Best is trial 23 with value: 0.1789493922434452.\u001b[0m\n",
      "\u001b[32m[I 2021-05-30 16:44:45,140]\u001b[0m Trial 83 finished with value: -0.8413867837651066 and parameters: {'n_samples': 16, 'jitter': 1, 'factor': 4}. Best is trial 23 with value: 0.1789493922434452.\u001b[0m\n",
      "\u001b[32m[I 2021-05-30 16:46:03,888]\u001b[0m Trial 84 finished with value: 0.06224135093179387 and parameters: {'n_samples': 16, 'jitter': 3, 'factor': 5}. Best is trial 23 with value: 0.1789493922434452.\u001b[0m\n",
      "\u001b[32m[I 2021-05-30 16:47:03,532]\u001b[0m Trial 85 finished with value: 0.17886297832745685 and parameters: {'n_samples': 15, 'jitter': 2, 'factor': 4}. Best is trial 23 with value: 0.1789493922434452.\u001b[0m\n",
      "\u001b[32m[I 2021-05-30 16:48:49,352]\u001b[0m Trial 86 finished with value: -0.83642090197778 and parameters: {'n_samples': 10, 'jitter': 1, 'factor': 5}. Best is trial 23 with value: 0.1789493922434452.\u001b[0m\n",
      "\u001b[32m[I 2021-05-30 16:53:37,664]\u001b[0m Trial 87 finished with value: 0.002832640943138661 and parameters: {'n_samples': 15, 'jitter': 10, 'factor': 4}. Best is trial 23 with value: 0.1789493922434452.\u001b[0m\n",
      "\u001b[32m[I 2021-05-30 17:00:33,058]\u001b[0m Trial 88 finished with value: -0.0011068105963112965 and parameters: {'n_samples': 16, 'jitter': 14, 'factor': 5}. Best is trial 23 with value: 0.1789493922434452.\u001b[0m\n",
      "\u001b[32m[I 2021-05-30 17:34:43,639]\u001b[0m Trial 89 finished with value: -0.008756119760631363 and parameters: {'n_samples': 14, 'jitter': 18, 'factor': 3}. Best is trial 23 with value: 0.1789493922434452.\u001b[0m\n",
      "\u001b[32m[I 2021-05-30 17:36:41,182]\u001b[0m Trial 90 finished with value: 0.008229325404744595 and parameters: {'n_samples': 15, 'jitter': 4, 'factor': 5}. Best is trial 23 with value: 0.1789493922434452.\u001b[0m\n",
      "\u001b[32m[I 2021-05-30 17:37:54,341]\u001b[0m Trial 91 finished with value: 0.1789493922434452 and parameters: {'n_samples': 16, 'jitter': 2, 'factor': 6}. Best is trial 23 with value: 0.1789493922434452.\u001b[0m\n",
      "\u001b[32m[I 2021-05-30 17:38:00,871]\u001b[0m Trial 92 finished with value: -0.5878622080457243 and parameters: {'n_samples': 2, 'jitter': 2, 'factor': 6}. Best is trial 23 with value: 0.1789493922434452.\u001b[0m\n",
      "\u001b[32m[I 2021-05-30 17:39:06,964]\u001b[0m Trial 93 finished with value: 0.1789493922434452 and parameters: {'n_samples': 16, 'jitter': 2, 'factor': 5}. Best is trial 23 with value: 0.1789493922434452.\u001b[0m\n",
      "\u001b[32m[I 2021-05-30 17:40:10,586]\u001b[0m Trial 94 finished with value: -0.8413867837651066 and parameters: {'n_samples': 16, 'jitter': 1, 'factor': 5}. Best is trial 23 with value: 0.1789493922434452.\u001b[0m\n",
      "\u001b[32m[I 2021-05-30 17:41:09,377]\u001b[0m Trial 95 finished with value: 0.17886297832745685 and parameters: {'n_samples': 15, 'jitter': 2, 'factor': 4}. Best is trial 23 with value: 0.1789493922434452.\u001b[0m\n",
      "\u001b[32m[I 2021-05-30 17:42:22,646]\u001b[0m Trial 96 finished with value: 0.06224135093179387 and parameters: {'n_samples': 16, 'jitter': 3, 'factor': 6}. Best is trial 23 with value: 0.1789493922434452.\u001b[0m\n",
      "\u001b[32m[I 2021-05-30 17:43:35,541]\u001b[0m Trial 97 finished with value: 0.06224135093179387 and parameters: {'n_samples': 16, 'jitter': 3, 'factor': 8}. Best is trial 23 with value: 0.1789493922434452.\u001b[0m\n",
      "\u001b[32m[I 2021-05-30 17:44:35,563]\u001b[0m Trial 98 finished with value: 0.17886297832745685 and parameters: {'n_samples': 15, 'jitter': 2, 'factor': 5}. Best is trial 23 with value: 0.1789493922434452.\u001b[0m\n",
      "\u001b[32m[I 2021-05-30 17:45:22,500]\u001b[0m Trial 99 finished with value: -0.8402494518463727 and parameters: {'n_samples': 14, 'jitter': 1, 'factor': 5}. Best is trial 23 with value: 0.1789493922434452.\u001b[0m\n"
     ]
    }
   ],
   "source": [
    "study.optimize(objective, n_trials=100)"
   ]
  },
  {
   "cell_type": "code",
   "execution_count": 11,
   "metadata": {
    "executionInfo": {
     "elapsed": 1152,
     "status": "ok",
     "timestamp": 1621084553902,
     "user": {
      "displayName": "Isdm Hueni",
      "photoUrl": "",
      "userId": "05072038424951783895"
     },
     "user_tz": -120
    },
    "id": "_WtdsrSipQ3l"
   },
   "outputs": [],
   "source": [
    "pd.DataFrame(experiment).to_csv('../../results/optimization/rings.csv')"
   ]
  }
 ],
 "metadata": {
  "colab": {
   "collapsed_sections": [],
   "name": "Overoptimism_Rings.ipynb",
   "provenance": [
    {
     "file_id": "1gZI4K7U86AGO3WSmrSjCR8j5RZd1CWOS",
     "timestamp": 1619594777428
    },
    {
     "file_id": "1WM_hnis-71gEi8mFVu7xhXRp0tULbqsc",
     "timestamp": 1619538520754
    }
   ]
  },
  "kernelspec": {
   "display_name": "Python 3",
   "language": "python",
   "name": "python3"
  },
  "language_info": {
   "codemirror_mode": {
    "name": "ipython",
    "version": 3
   },
   "file_extension": ".py",
   "mimetype": "text/x-python",
   "name": "python",
   "nbconvert_exporter": "python",
   "pygments_lexer": "ipython3",
   "version": "3.9.5"
  }
 },
 "nbformat": 4,
 "nbformat_minor": 1
}
