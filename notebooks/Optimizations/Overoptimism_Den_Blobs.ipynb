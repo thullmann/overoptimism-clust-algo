{
 "cells": [
  {
   "cell_type": "code",
   "execution_count": null,
   "metadata": {
    "executionInfo": {
     "elapsed": 997,
     "status": "ok",
     "timestamp": 1620112992024,
     "user": {
      "displayName": "Isdm Hueni",
      "photoUrl": "",
      "userId": "05072038424951783895"
     },
     "user_tz": -120
    },
    "id": "D98-cMVM08N2"
   },
   "outputs": [],
   "source": [
    "import sys  \n",
    "sys.path.insert(0, '../../')"
   ]
  },
  {
   "cell_type": "code",
   "execution_count": null,
   "metadata": {
    "executionInfo": {
     "elapsed": 9620,
     "status": "ok",
     "timestamp": 1620113019813,
     "user": {
      "displayName": "Isdm Hueni",
      "photoUrl": "",
      "userId": "05072038424951783895"
     },
     "user_tz": -120
    },
    "id": "UVecTsHK1AcP"
   },
   "outputs": [],
   "source": [
    "%load_ext autoreload\n",
    "%autoreload 2"
   ]
  },
  {
   "cell_type": "code",
   "execution_count": null,
   "metadata": {
    "executionInfo": {
     "elapsed": 528,
     "status": "ok",
     "timestamp": 1620113148397,
     "user": {
      "displayName": "Isdm Hueni",
      "photoUrl": "",
      "userId": "05072038424951783895"
     },
     "user_tz": -120
    },
    "id": "CibAFzXOB1Js"
   },
   "outputs": [],
   "source": [
    "def getBlobDensities(n_centers):\n",
    "  return np.round([3/n_centers * x for x in range(1, n_centers + 1)], decimals=2)"
   ]
  },
  {
   "cell_type": "code",
   "execution_count": null,
   "metadata": {
    "executionInfo": {
     "elapsed": 1054,
     "status": "ok",
     "timestamp": 1620113125105,
     "user": {
      "displayName": "Isdm Hueni",
      "photoUrl": "",
      "userId": "05072038424951783895"
     },
     "user_tz": -120
    },
    "id": "sALbXlA-1Bnq"
   },
   "outputs": [],
   "source": [
    "def objective(trial):\n",
    "    seed = 0\n",
    "\n",
    "    rock_results = []\n",
    "    other_results = []\n",
    "\n",
    "    n_samples = trial.suggest_int('n_samples', 1, 16) * 100\n",
    "    jitter = trial.suggest_int('jitter', 1, 20) * 0.01\n",
    "    n_features = trial.suggest_int('n_features', 2, 20)\n",
    "    n_centers = trial.suggest_int('n_centers', 2, 10)\n",
    "\n",
    "    datasets = []\n",
    "\n",
    "    for s in range(seed, seed+10):\n",
    "        datasets.append(make_blobs(n_samples=n_samples, centers=n_centers, n_features=n_features, cluster_std=getBlobDensities(n_centers), random_state=s))\n",
    "        \n",
    "    step = 0\n",
    "    for dataset in datasets: \n",
    "        run = {}\n",
    "        run['run_id'] = run_id\n",
    "        run['step'] = step\n",
    "        run['n_samples'] = n_samples\n",
    "        run['n_centers'] = n_centers\n",
    "        run['n_features'] = n_features\n",
    "        run['jitter'] = jitter\n",
    "        scaler = StandardScaler()\n",
    "        data = scaler.fit_transform(dataset[0])\n",
    "        kmeans = KMeans(n_clusters=n_centers, random_state=seed).fit(data).labels_\n",
    "        run['k'] = n_centers\n",
    "        eps, min_pts = (0.2, 4)\n",
    "        dbscan = DBSCAN(eps=eps, min_samples=min_pts).fit(data).labels_\n",
    "        run['eps'] = eps\n",
    "        run['min_pts'] = min_pts\n",
    "        spectral = SpectralClustering(n_clusters=n_centers).fit(data).labels_\n",
    "        bandwidth = estimate_bandwidth(data)\n",
    "        run['bandwidth'] = bandwidth\n",
    "        mean_shift = MeanShift(bandwidth=bandwidth).fit(data).labels_\n",
    "\n",
    "        rock = ROCK(tmax=15).fit(data).labels_\n",
    "\n",
    "        gt = dataset[1]\n",
    "        rock_results.append(AMI(rock, gt))\n",
    "        other_results.append(np.max([AMI(kmeans, gt), AMI(dbscan, gt), AMI(spectral, gt), AMI(mean_shift, gt)]))\n",
    "\n",
    "        run['ROCK'] = AMI(rock, gt)\n",
    "        run['K_MEANS'] = AMI(kmeans, gt)\n",
    "        run['DBSCAN'] = AMI(dbscan, gt)\n",
    "        run['SPECTRAL'] = AMI(spectral, gt)\n",
    "        run['MEAN_SHIFT'] = AMI(mean_shift, gt)\n",
    "\n",
    "        step += 1\n",
    "\n",
    "        experiment.append(run)\n",
    "\n",
    "    return np.mean(rock_results) - np.mean(other_results)"
   ]
  },
  {
   "cell_type": "code",
   "execution_count": null,
   "metadata": {
    "executionInfo": {
     "elapsed": 557,
     "status": "ok",
     "timestamp": 1620113128448,
     "user": {
      "displayName": "Isdm Hueni",
      "photoUrl": "",
      "userId": "05072038424951783895"
     },
     "user_tz": -120
    },
    "id": "sVmdS5nR8ic7"
   },
   "outputs": [],
   "source": [
    "experiment = []\n",
    "run_id = 0"
   ]
  },
  {
   "cell_type": "code",
   "execution_count": null,
   "metadata": {
    "executionInfo": {
     "elapsed": 4599,
     "status": "ok",
     "timestamp": 1620113133863,
     "user": {
      "displayName": "Isdm Hueni",
      "photoUrl": "",
      "userId": "05072038424951783895"
     },
     "user_tz": -120
    },
    "id": "lP-i52Au8kmy"
   },
   "outputs": [],
   "source": [
    "import optuna\n",
    "import numpy as np\n",
    "import pandas as pd\n",
    "\n",
    "from sklearn.datasets import make_blobs, make_moons\n",
    "from sklearn.cluster import KMeans, DBSCAN, SpectralClustering, MeanShift, estimate_bandwidth\n",
    "from sklearn.preprocessing import StandardScaler\n",
    "from sklearn.metrics import adjusted_mutual_info_score as AMI\n",
    "from rock import ROCK\n",
    "\n",
    "from util import dbscan_init\n",
    "\n",
    "import logging\n",
    "import sys"
   ]
  },
  {
   "cell_type": "code",
   "execution_count": null,
   "metadata": {
    "executionInfo": {
     "elapsed": 520,
     "status": "ok",
     "timestamp": 1620113139020,
     "user": {
      "displayName": "Isdm Hueni",
      "photoUrl": "",
      "userId": "05072038424951783895"
     },
     "user_tz": -120
    },
    "id": "d9mAiC1J8rMz"
   },
   "outputs": [],
   "source": [
    "study_name = 'den_blobs_2'"
   ]
  },
  {
   "cell_type": "code",
   "execution_count": null,
   "metadata": {
    "colab": {
     "base_uri": "https://localhost:8080/"
    },
    "executionInfo": {
     "elapsed": 1133,
     "status": "ok",
     "timestamp": 1620113140957,
     "user": {
      "displayName": "Isdm Hueni",
      "photoUrl": "",
      "userId": "05072038424951783895"
     },
     "user_tz": -120
    },
    "id": "oZfpmiPh8nDk",
    "outputId": "72d266b4-54dc-4faa-fad5-2f4c507eba84"
   },
   "outputs": [],
   "source": [
    "storage_name = \"sqlite:///{}.db\".format(study_name)\n",
    "study = optuna.create_study(study_name=study_name, storage=storage_name, load_if_exists=True,  direction=\"maximize\")"
   ]
  },
  {
   "cell_type": "code",
   "execution_count": null,
   "metadata": {
    "colab": {
     "base_uri": "https://localhost:8080/"
    },
    "executionInfo": {
     "elapsed": 5375749,
     "status": "ok",
     "timestamp": 1620118525712,
     "user": {
      "displayName": "Isdm Hueni",
      "photoUrl": "",
      "userId": "05072038424951783895"
     },
     "user_tz": -120
    },
    "id": "kM2MpbBO_O4F",
    "outputId": "ba822c39-6beb-4d8c-e36f-4afbc14dca7b"
   },
   "outputs": [],
   "source": [
    "study.optimize(objective, n_trials=100)"
   ]
  },
  {
   "cell_type": "code",
   "execution_count": null,
   "metadata": {
    "id": "_WtdsrSipQ3l"
   },
   "outputs": [],
   "source": [
    "pd.DataFrame(experiment).to_csv('den_blobs.csv')"
   ]
  }
 ],
 "metadata": {
  "colab": {
   "collapsed_sections": [],
   "name": "Overoptimism_Den_Blobs.ipynb",
   "provenance": [
    {
     "file_id": "1WM_hnis-71gEi8mFVu7xhXRp0tULbqsc",
     "timestamp": 1619538520754
    }
   ]
  },
  "kernelspec": {
   "display_name": "Python 3",
   "language": "python",
   "name": "python3"
  },
  "language_info": {
   "codemirror_mode": {
    "name": "ipython",
    "version": 3
   },
   "file_extension": ".py",
   "mimetype": "text/x-python",
   "name": "python",
   "nbconvert_exporter": "python",
   "pygments_lexer": "ipython3",
   "version": "3.8.2"
  }
 },
 "nbformat": 4,
 "nbformat_minor": 1
}
