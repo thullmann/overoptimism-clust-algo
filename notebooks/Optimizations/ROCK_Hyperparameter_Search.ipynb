{
 "cells": [
  {
   "cell_type": "markdown",
   "metadata": {},
   "source": [
    "## Optimizing Rock's hyperparameter $t_{max}$"
   ]
  },
  {
   "cell_type": "code",
   "execution_count": 1,
   "metadata": {
    "id": "UbvqVKulcAwD"
   },
   "outputs": [],
   "source": [
    "import sys  \n",
    "sys.path.insert(0, '../..')"
   ]
  },
  {
   "cell_type": "code",
   "execution_count": 2,
   "metadata": {
    "colab": {
     "base_uri": "https://localhost:8080/"
    },
    "executionInfo": {
     "elapsed": 485,
     "status": "ok",
     "timestamp": 1621160417511,
     "user": {
      "displayName": "Isdm Hueni",
      "photoUrl": "",
      "userId": "05072038424951783895"
     },
     "user_tz": -120
    },
    "id": "lWMfMVRSeO88",
    "outputId": "964a462f-e01f-4e82-c8ef-bc9ba8a26852"
   },
   "outputs": [],
   "source": [
    "%load_ext autoreload\n",
    "%autoreload 2"
   ]
  },
  {
   "cell_type": "code",
   "execution_count": 3,
   "metadata": {
    "colab": {
     "base_uri": "https://localhost:8080/",
     "height": 389
    },
    "executionInfo": {
     "elapsed": 948,
     "status": "error",
     "timestamp": 1621259135300,
     "user": {
      "displayName": "Isdm Hueni",
      "photoUrl": "",
      "userId": "05072038424951783895"
     },
     "user_tz": -120
    },
    "id": "EXvc2zQ-csmQ",
    "outputId": "82654e58-c034-4012-92df-17764dfcaad0"
   },
   "outputs": [],
   "source": [
    "import numpy as np\n",
    "import pandas as pd\n",
    "\n",
    "from sklearn.datasets import make_blobs, make_moons, make_circles, load_iris, load_wine, load_breast_cancer, load_digits, fetch_covtype    \n",
    "from sklearn.cluster import KMeans, DBSCAN, SpectralClustering, MeanShift, estimate_bandwidth\n",
    "from sklearn.preprocessing import StandardScaler\n",
    "from sklearn.metrics import adjusted_mutual_info_score as AMI\n",
    "from rock import ROCK\n",
    "\n",
    "import matplotlib.pyplot as plt\n",
    "\n",
    "import logging\n",
    "import sys\n",
    "from tqdm.notebook import tqdm"
   ]
  },
  {
   "cell_type": "code",
   "execution_count": 4,
   "metadata": {
    "executionInfo": {
     "elapsed": 587,
     "status": "ok",
     "timestamp": 1621256344901,
     "user": {
      "displayName": "Isdm Hueni",
      "photoUrl": "",
      "userId": "05072038424951783895"
     },
     "user_tz": -120
    },
    "id": "4OLzvGn2sVLX"
   },
   "outputs": [],
   "source": [
    "plt.rcParams['axes.grid'] = True\n",
    "plt.rcParams['axes.spines.top'] = False\n",
    "plt.rcParams['axes.spines.right'] = False\n",
    "plt.rcParams['axes.spines.bottom'] = False\n",
    "plt.rcParams['axes.spines.left'] = False"
   ]
  },
  {
   "cell_type": "code",
   "execution_count": 5,
   "metadata": {
    "id": "sfM20A23iHzF"
   },
   "outputs": [],
   "source": [
    "experiment = []"
   ]
  },
  {
   "cell_type": "code",
   "execution_count": 6,
   "metadata": {
    "id": "dZTxToxqaBUt"
   },
   "outputs": [],
   "source": [
    "def getBlobDensities(n_centers):\n",
    "  return np.round([3/n_centers * x for x in range(1, n_centers + 1)], decimals=2)"
   ]
  },
  {
   "cell_type": "code",
   "execution_count": 7,
   "metadata": {
    "id": "FLtgfMjY5C_j"
   },
   "outputs": [],
   "source": [
    "blobs = make_blobs(n_samples=300, n_features=3, cluster_std=getBlobDensities(2), centers=2, random_state=42)\n",
    "moons = make_moons(n_samples=1000, noise=0.15, random_state=42)\n",
    "circles = make_circles(n_samples=1600, noise=0.02, random_state=42)\n",
    "iris = load_iris(return_X_y=True)\n",
    "wine = load_wine(return_X_y=True)\n",
    "cancer = load_breast_cancer(return_X_y=True)\n",
    "digits = load_digits(return_X_y=True)"
   ]
  },
  {
   "cell_type": "code",
   "execution_count": 8,
   "metadata": {
    "executionInfo": {
     "elapsed": 757,
     "status": "ok",
     "timestamp": 1621259125177,
     "user": {
      "displayName": "Isdm Hueni",
      "photoUrl": "",
      "userId": "05072038424951783895"
     },
     "user_tz": -120
    },
    "id": "SpOu6jOr43i3"
   },
   "outputs": [],
   "source": [
    "datasets = [blobs, moons, circles, iris, wine, cancer, digits]\n",
    "data_names = ['Blobs', 'Moons', 'Circles', 'Iris', 'Wine', 'Breast Cancer', 'Digits']\n",
    "tmaxs = range(1, 31)"
   ]
  },
  {
   "cell_type": "code",
   "execution_count": null,
   "metadata": {
    "colab": {
     "base_uri": "https://localhost:8080/",
     "height": 244
    },
    "executionInfo": {
     "elapsed": 676,
     "status": "error",
     "timestamp": 1621259127305,
     "user": {
      "displayName": "Isdm Hueni",
      "photoUrl": "",
      "userId": "05072038424951783895"
     },
     "user_tz": -120
    },
    "id": "q752xexB41rz",
    "outputId": "3959aa6e-3b96-4bb4-8895-2e79f08997c0"
   },
   "outputs": [],
   "source": [
    "for d in tqdm(range(0, len(datasets))):\n",
    "    for t in tqdm(range(0, len(tmaxs))):\n",
    "      dataset = datasets[d]\n",
    "      run = {}\n",
    "      scaler = StandardScaler()\n",
    "      data = scaler.fit_transform(dataset[0])\n",
    "      data = dataset[0]\n",
    "      rock = ROCK(tmax=tmaxs[t]).fit(data).labels_\n",
    "      run['Dataset'] = data_names[d]\n",
    "      gt = dataset[1]\n",
    "      run['AMI'] = AMI(rock, gt)\n",
    "      run['tmax'] = tmaxs[t]\n",
    "      \n",
    "      experiment.append(run)"
   ]
  },
  {
   "cell_type": "code",
   "execution_count": 10,
   "metadata": {
    "id": "U3FnCVEum_Vi"
   },
   "outputs": [],
   "source": [
    "results = pd.DataFrame(experiment)"
   ]
  },
  {
   "cell_type": "code",
   "execution_count": 11,
   "metadata": {
    "colab": {
     "base_uri": "https://localhost:8080/",
     "height": 297
    },
    "executionInfo": {
     "elapsed": 1160,
     "status": "ok",
     "timestamp": 1621256483676,
     "user": {
      "displayName": "Isdm Hueni",
      "photoUrl": "",
      "userId": "05072038424951783895"
     },
     "user_tz": -120
    },
    "id": "HoPbzzkaJeTI",
    "outputId": "e6512de8-068d-4a93-de19-1e4127f72d7c"
   },
   "outputs": [
    {
     "data": {
      "image/png": "[encoded data removed]",
      "text/plain": [
       "<Figure size 432x288 with 1 Axes>"
      ]
     },
     "metadata": {
      "needs_background": "light"
     },
     "output_type": "display_data"
    }
   ],
   "source": [
    "import matplotlib.pyplot as plt\n",
    "\n",
    "plt.plot(tmaxs, results[results['Dataset'] == 'Moons']['AMI'], linestyle='--', marker='P', label='Moons')\n",
    "plt.plot(tmaxs, results[results['Dataset'] == 'Blobs']['AMI'], linestyle=\":\", marker='^', label='Blobs')\n",
    "plt.plot(tmaxs, results[results['Dataset'] == 'Circles']['AMI'], linestyle='-.', marker='p', label='Rings')\n",
    "plt.plot(tmaxs, results[results['Dataset'] == 'Digits']['AMI'], linestyle='--', marker='*',  label='Digits')\n",
    "plt.plot(tmaxs, results[results['Dataset'] == 'Wine']['AMI'], linestyle='-', marker='o', label='Wine')\n",
    "plt.plot(tmaxs, results[results['Dataset'] == 'Iris']['AMI'], linestyle='--', marker='s', label='Iris')\n",
    "plt.plot(tmaxs, results[results['Dataset'] == 'Breast Cancer']['AMI'], linestyle=':', marker='X', label='Breast Cancer')\n",
    "plt.xlabel('tmax')\n",
    "plt.ylabel('AMI')\n",
    "plt.tight_layout()\n",
    "plt.legend(loc='center left', bbox_to_anchor=(1, 0.5))\n",
    "plt.savefig('../../figures/ROCK_hyper_search.png')\n"
   ]
  },
  {
   "cell_type": "code",
   "execution_count": 12,
   "metadata": {
    "id": "tVPJ0KOPnALz"
   },
   "outputs": [],
   "source": [
    "results.to_csv('../../results/optimization/ROCK_hyper.csv')"
   ]
  }
 ],
 "metadata": {
  "colab": {
   "authorship_tag": "ABX9TyO/7JeYJfy84vAcNbpgiSOi",
   "collapsed_sections": [],
   "mount_file_id": "1vi3vjOwPDsYrLGNN2_krA5SkV1Wty3bn",
   "name": "ROCK_Hyperparameter_Search.ipynb",
   "provenance": [
    {
     "file_id": "1yZZ4GfxaXLw7kQQ-ufKegMhT-sh93n-d",
     "timestamp": 1620305717278
    },
    {
     "file_id": "1ovm-C9cOxmlH44OzWKrLSfVgtP3HqT18",
     "timestamp": 1620113188233
    }
   ]
  },
  "kernelspec": {
   "display_name": "Python 3",
   "language": "python",
   "name": "python3"
  },
  "language_info": {
   "codemirror_mode": {
    "name": "ipython",
    "version": 3
   },
   "file_extension": ".py",
   "mimetype": "text/x-python",
   "name": "python",
   "nbconvert_exporter": "python",
   "pygments_lexer": "ipython3",
   "version": "3.9.9"
  }
 },
 "nbformat": 4,
 "nbformat_minor": 1
}
